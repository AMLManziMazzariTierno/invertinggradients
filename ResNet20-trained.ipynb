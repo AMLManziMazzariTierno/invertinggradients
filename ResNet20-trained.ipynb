{
 "cells": [
  {
   "cell_type": "code",
   "execution_count": 1,
   "metadata": {},
   "outputs": [],
   "source": [
    "import torch\n",
    "import numpy as np\n",
    "import matplotlib.pyplot as plt\n",
    "from collections import defaultdict\n",
    "from PIL import Image"
   ]
  },
  {
   "attachments": {},
   "cell_type": "markdown",
   "metadata": {},
   "source": [
    "# Choose variants here:"
   ]
  },
  {
   "cell_type": "code",
   "execution_count": 2,
   "metadata": {},
   "outputs": [],
   "source": [
    "arch = 'ResNet20'\n",
    "num_images = 1\n",
    "trained_model = True"
   ]
  },
  {
   "attachments": {},
   "cell_type": "markdown",
   "metadata": {},
   "source": [
    "## System setup:"
   ]
  },
  {
   "cell_type": "code",
   "execution_count": 3,
   "metadata": {},
   "outputs": [
    {
     "name": "stdout",
     "output_type": "stream",
     "text": [
      "Currently evaluating -------------------------------:\n",
      "Friday, 13. March 2020 05:50PM\n",
      "CPUs: 8, GPUs: 2 on titan-rtx.\n",
      "GPU : TITAN RTX\n",
      "Files already downloaded and verified\n",
      "Files already downloaded and verified\n",
      "Model initialized with random key 267693549.\n"
     ]
    }
   ],
   "source": [
    "import inversefed\n",
    "setup = inversefed.utils.system_startup()\n",
    "defs = inversefed.training_strategy('conservative')\n",
    "\n",
    "loss_fn, trainloader, validloader =  inversefed.construct_dataloaders('CIFAR100', defs)\n",
    "\n",
    "model = resnet20()\n",
    "\n",
    "if(trained_model):\n",
    "    model.load_state_dict(torch.load('./models/trainedResNet20.pt', map_location=torch.device('cpu')))\n",
    "\n",
    "model.eval();"
   ]
  },
  {
   "cell_type": "code",
   "execution_count": 4,
   "metadata": {},
   "outputs": [],
   "source": [
    "dm = torch.as_tensor(inversefed.consts.cifar100_mean, **setup)[:, None, None]\n",
    "ds = torch.as_tensor(inversefed.consts.cifar100_std, **setup)[:, None, None]\n",
    "def plot(tensor):\n",
    "    tensor = tensor.clone().detach()\n",
    "    tensor.mul_(ds).add_(dm).clamp_(0, 1)\n",
    "    if tensor.shape[0] == 1:\n",
    "        return plt.imshow(tensor[0].permute(1, 2, 0).cpu());\n",
    "    else:\n",
    "        fig, axes = plt.subplots(1, tensor.shape[0], figsize=(12, tensor.shape[0]*12))\n",
    "        for i, im in enumerate(tensor):\n",
    "            axes[i].imshow(im.permute(1, 2, 0).cpu());"
   ]
  },
  {
   "attachments": {},
   "cell_type": "markdown",
   "metadata": {},
   "source": [
    "# Reconstruct"
   ]
  },
  {
   "attachments": {},
   "cell_type": "markdown",
   "metadata": {},
   "source": [
    "### Build the input (ground-truth) gradient"
   ]
  },
  {
   "cell_type": "code",
   "execution_count": 5,
   "metadata": {},
   "outputs": [],
   "source": [
    "if num_images == 1:\n",
    "    ground_truth_image = torch.as_tensor(np.array(Image.open(\"auto.jpg\").resize((32, 32), Image.BICUBIC)) / 255, \n",
    "                                         **setup)\n",
    "    ground_truth = ground_truth_image.permute(2, 0, 1).sub(dm).div(ds).unsqueeze(0).contiguous()\n",
    "    labels = torch.as_tensor((1,), device=setup['device'])\n",
    "else:\n",
    "    ground_truth, labels = [], []\n",
    "    idx = 1014 # choosen randomly ... just whatever you want\n",
    "    while len(labels) < num_images:\n",
    "        img, label = validloader.dataset[idx]\n",
    "        idx += 1\n",
    "        if label not in labels:\n",
    "            labels.append(torch.as_tensor((label,), device=setup['device']))\n",
    "            ground_truth.append(img.to(**setup))\n",
    "    ground_truth = torch.stack(ground_truth)\n",
    "    labels = torch.cat(labels)"
   ]
  },
  {
   "cell_type": "code",
   "execution_count": null,
   "metadata": {},
   "outputs": [],
   "source": [
    "plot(ground_truth);\n",
    "print([validloader.dataset.classes[l] for l in labels]);"
   ]
  },
  {
   "cell_type": "code",
   "execution_count": 7,
   "metadata": {},
   "outputs": [],
   "source": [
    "model.zero_grad()\n",
    "target_loss, _, _ = loss_fn(model(ground_truth), labels)\n",
    "input_gradient = torch.autograd.grad(target_loss, model.parameters())\n",
    "input_gradient = [grad.detach() for grad in input_gradient]"
   ]
  },
  {
   "cell_type": "code",
   "execution_count": null,
   "metadata": {},
   "outputs": [],
   "source": [
    "config = dict(signed=True,\n",
    "              boxed=True,\n",
    "              cost_fn='sim',\n",
    "              indices='def',\n",
    "              weights='equal',\n",
    "              lr=0.1,\n",
    "              optim='adam',\n",
    "              restarts=1,\n",
    "              max_iterations=4000,\n",
    "              total_variation=1e-6,\n",
    "              init='randn',\n",
    "              filter='none',\n",
    "              lr_decay=True,\n",
    "              scoring_choice='loss')\n",
    "\n",
    "rec_machine = inversefed.GradientReconstructor(model, (dm, ds), config, num_images=num_images)\n",
    "output, stats = rec_machine.reconstruct(input_gradient, labels, img_shape=(3, 32, 32))\n",
    "\n",
    "test_mse = (output.detach() - ground_truth).pow(2).mean()\n",
    "feat_mse = (model(output.detach())- model(ground_truth)).pow(2).mean()  \n",
    "test_psnr = inversefed.metrics.psnr(output, ground_truth, factor=1/ds)\n",
    "\n",
    "plot(output)\n",
    "plt.title(f\"Rec. loss: {stats['opt']:2.4f} | MSE: {test_mse:2.4f} \"\n",
    "          f\"| PSNR: {test_psnr:4.2f} | FMSE: {feat_mse:2.4e} |\");"
   ]
  },
  {
   "cell_type": "code",
   "execution_count": null,
   "metadata": {},
   "outputs": [],
   "source": [
    "data = inversefed.metrics.activation_errors(model, output, ground_truth)\n",
    "\n",
    "fig, axes = plt.subplots(2, 3, sharey=False, figsize=(14,8))\n",
    "axes[0, 0].semilogy(list(data['se'].values())[:-3])\n",
    "axes[0, 0].set_title('SE')\n",
    "axes[0, 1].semilogy(list(data['mse'].values())[:-3])\n",
    "axes[0, 1].set_title('MSE')\n",
    "axes[0, 2].plot(list(data['sim'].values())[:-3])\n",
    "axes[0, 2].set_title('Similarity')\n",
    "\n",
    "convs = [val for key, val in data['mse'].items() if 'conv' in key]\n",
    "axes[1, 0].semilogy(convs)\n",
    "axes[1, 0].set_title('MSE - conv layers')\n",
    "convs = [val for key, val in data['mse'].items() if 'conv1' in key]\n",
    "axes[1, 1].semilogy(convs)\n",
    "convs = [val for key, val in data['mse'].items() if 'conv2' in key]\n",
    "axes[1, 1].semilogy(convs)\n",
    "axes[1, 1].set_title('MSE - conv1 vs conv2 layers')\n",
    "bns = [val for key, val in data['mse'].items() if 'bn' in key]\n",
    "axes[1, 2].plot(bns)\n",
    "axes[1, 2].set_title('MSE - bn layers')\n",
    "fig.suptitle('Error between layers');"
   ]
  }
 ],
 "metadata": {
  "kernelspec": {
   "display_name": "Python 3",
   "language": "python",
   "name": "python3"
  },
  "language_info": {
   "codemirror_mode": {
    "name": "ipython",
    "version": 3
   },
   "file_extension": ".py",
   "mimetype": "text/x-python",
   "name": "python",
   "nbconvert_exporter": "python",
   "pygments_lexer": "ipython3",
   "version": "3.7.6"
  }
 },
 "nbformat": 4,
 "nbformat_minor": 4
}
